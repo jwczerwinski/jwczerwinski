{
  "nbformat": 4,
  "nbformat_minor": 0,
  "metadata": {
    "colab": {
      "provenance": [],
      "mount_file_id": "1AAd_UHtpwbO0vh58cdPUVxOGR_slapcx",
      "authorship_tag": "ABX9TyMnfaoLTR7H3EIb2e7iRNZM",
      "include_colab_link": true
    },
    "kernelspec": {
      "name": "python3",
      "display_name": "Python 3"
    },
    "language_info": {
      "name": "python"
    }
  },
  "cells": [
    {
      "cell_type": "markdown",
      "metadata": {
        "id": "view-in-github",
        "colab_type": "text"
      },
      "source": [
        "<a href=\"https://colab.research.google.com/github/jwczerwinski/jwczerwinski/blob/main/Hello_World.ipynb\" target=\"_parent\"><img src=\"https://colab.research.google.com/assets/colab-badge.svg\" alt=\"Open In Colab\"/></a>"
      ]
    },
    {
      "cell_type": "code",
      "execution_count": null,
      "metadata": {
        "id": "slyi1bY9SU1p"
      },
      "outputs": [],
      "source": [
        "print(\"Hello World\")\n",
        "print(\"Hello World\\n\" *50)"
      ]
    }
  ]
}